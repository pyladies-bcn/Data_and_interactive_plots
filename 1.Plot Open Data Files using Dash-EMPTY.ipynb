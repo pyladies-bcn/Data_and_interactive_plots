{
 "cells": [
  {
   "cell_type": "markdown",
   "metadata": {},
   "source": [
    "# Open Data Sabadell\n",
    "\n",
    "\n",
    "http://opendata.sabadell.cat/ca/\n",
    "\n",
    "From main page **Catàleg** we select **Medi Ambient** (Environment) category.  \n",
    "In there, we can find a file related to municipal waste that can be downloaded from [here.](http://opendata.sabadell.cat/index.php?option=com_iasopendata&view=download&format=raw&urlOData=aHR0cDovL29kYXRhLnNhYmFkZWxsLmNhdC9vZGF0YTRQcm9kdWN0b3Ivb2RhdGE0UHJvZHVjdG9yLnN2Yy9NYXRlcmlhbHNSZXNpZHVzLz9mb3JtYXQ9Y3N2JmlkZGlzdD0xNDYyJiRzZWxlY3Q9T3JkcmUsQW55byxJZE1hdGVyaWFsLE5vbU1hdGVyaWFsLFF1YW50aXRhdCxVbml0YXRz) But you can find a copy of this file named **residus.csv** in this tutorial dataset in **DadesSabadell** folder.\n",
    "\n",
    "The file obtained is in a CSV format (Comma Separated Value). This means that it is \n",
    "like a table where the rows are registers and the columns are fields or values associated to this register. \n",
    "\n",
    "You can take a look into this file in table-like representation provided in the open data web page following this link: [OpenData Sabadell](http://opendata.sabadell.cat/ca/inici/odata?iddist=1462). Looking this table we can observe that every register represents an amount of waste origined in Sabadell in tones associated with a particular year and a waste type classification.\n",
    "\n",
    "In this exercice we are going to follow this steps:\n",
    "* Read residus.csv file.\n",
    "* Group data to obtain more readable information. Every row will be a type of waste and the columns will be a year related to this data.\n",
    "* Represent data in an interactive way.\n",
    "    \n",
    "**Important:** Nan values indicate that there is no infomation related to this type of waste and year.\n"
   ]
  },
  {
   "cell_type": "markdown",
   "metadata": {},
   "source": [
    "To read data and manage it we are going to use [pandas](https://pandas.pydata.org/) library:"
   ]
  },
  {
   "cell_type": "code",
   "execution_count": null,
   "metadata": {},
   "outputs": [],
   "source": [
    "import pandas as pd\n",
    "\n",
    "df = pd.read_csv(\"DadesSabadell/residus.csv\",sep=';')\n",
    "df.sort_values(by=\"Anyo\",inplace = True)\n",
    "\n",
    "df"
   ]
  },
  {
   "cell_type": "code",
   "execution_count": null,
   "metadata": {},
   "outputs": [],
   "source": [
    "materials = list(df.NomMaterial.unique())\n",
    "materials.remove(\"Resta\")\n",
    "\n",
    "print ('{} diferent types of wastes:'.format(len(materials)))\n",
    "materials"
   ]
  },
  {
   "cell_type": "code",
   "execution_count": null,
   "metadata": {},
   "outputs": [],
   "source": [
    "pd.pivot_table(df,columns=\"Anyo\", index = \"NomMaterial\", values=\"Quantitat\")"
   ]
  },
  {
   "cell_type": "markdown",
   "metadata": {},
   "source": [
    "All is prepared to plot our data. We are going to us Dash (web-based interfaces in Python) to plot information and give them interactivity.\n",
    "\n",
    "If you are interested to learn more about Dash you can follow the offical [tutorial.](https://dash.plot.ly/)\n",
    "\n",
    "[Dash installation:](https://dash.plot.ly/installation)\n",
    "\n",
    "* **pip install dash**  # The core dash backend\n",
    "* **pip install dash-html-components**  # HTML components\n",
    "* **pip install dash-core-components**  # Supercharged components\n",
    "* **pip install dash-table**  # Interactive DataTable component (new!)"
   ]
  },
  {
   "cell_type": "code",
   "execution_count": null,
   "metadata": {},
   "outputs": [],
   "source": [
    "%%writefile my_app1.py\n",
    "#Dash empty structure\n",
    "import dash\n",
    "import dash_core_components as dcc\n",
    "import dash_html_components as html\n",
    "\n",
    "app = dash.Dash()\n",
    "\n",
    "app.layout = html.Div('Hello Dash!')\n",
    "\n",
    "if __name__ == '__main__':\n",
    "    app.run_server(debug=True)"
   ]
  },
  {
   "cell_type": "code",
   "execution_count": null,
   "metadata": {},
   "outputs": [],
   "source": [
    "!python3 my_app1.py"
   ]
  },
  {
   "cell_type": "code",
   "execution_count": null,
   "metadata": {},
   "outputs": [],
   "source": [
    "%%writefile my_app2.py\n",
    "#Dash simple example\n",
    "import dash\n",
    "import dash_core_components as dcc\n",
    "import dash_html_components as html\n",
    "\n",
    "app = dash.Dash()\n",
    "\n",
    "app.layout = html.Div([html.H1(\"Hello Dash!\"),\n",
    "                       \n",
    "              html.Div('''\n",
    "                Dash: A web application framework for Python.\n",
    "              '''),\n",
    "                      \n",
    "              dcc.Graph(id='exmaple-graph',\n",
    "                        figure = {\n",
    "                            'data':[\n",
    "                                {'x': [1, 2, 3], 'y': [4.2, 1.8, 2.7], 'type': 'bar', 'name': 'Sabadell'},\n",
    "                                {'x': [1, 2, 3], 'y': [2.8, 4.9, 5.1], 'type': 'bar', 'name': 'Barcelona'},\n",
    "                            ],\n",
    "                            'layout':{\n",
    "                                'title' : 'Dash Data Visualisation'\n",
    "                            }\n",
    "              })\n",
    "])\n",
    "\n",
    "if __name__ == '__main__':\n",
    "    app.run_server(debug=True)"
   ]
  },
  {
   "cell_type": "code",
   "execution_count": null,
   "metadata": {},
   "outputs": [],
   "source": [
    "!python3 my_app2.py"
   ]
  },
  {
   "cell_type": "code",
   "execution_count": null,
   "metadata": {},
   "outputs": [],
   "source": [
    "%%writefile my_app3.py\n",
    "#Dash simple example\n",
    "import pandas as pd\n",
    "import dash\n",
    "import dash_core_components as dcc\n",
    "import dash_html_components as html\n",
    "import plotly.graph_objs as go\n",
    "from plotly import tools\n",
    "\n",
    "df = pd.read_csv(\"DadesSabadell/residus.csv\",sep=';')\n",
    "df.sort_values(by=\"Anyo\",inplace = True)\n",
    "\n",
    "materials = list(df.NomMaterial.unique())\n",
    "materials.remove(\"Resta\")\n",
    "\n",
    "pd.pivot_table(df,columns=\"Anyo\", index = \"NomMaterial\", values=\"Quantitat\")\n",
    "\n",
    "minim = 0\n",
    "maxim = 1000\n",
    "pas = 100\n",
    "\n",
    "app = dash.Dash()\n",
    "app.css.append_css({\"external_url\": \"https://codepen.io/chriddyp/pen/bWLwgP.css\"})\n",
    "\n",
    "app.layout = html.Div([html.Div([dcc.Graph(id='residus_graph')],\n",
    "                                style={'height':'80%','padding': '0px 20px 20px 20px'}),\n",
    "                                html.Div([html.H5(\"Materials amb mitjana de tones per any més grans que:\"),\n",
    "                                    dcc.Slider(id='avg-tones',step = pas,min=minim,max=maxim,value=maxim/2,       \n",
    "                                            marks={ str(tones): {'label':str(tones)} for tones in range(minim,maxim+pas,pas)})],\n",
    "                       style={'margin':'auto','height':'20%','width': '70%', 'padding': '0px 0px 40px 40px',\"display\":'inline_block'})])\n",
    "\n",
    "@app.callback(\n",
    "    dash.dependencies.Output('residus_graph', 'figure'),\n",
    "    [dash.dependencies.Input('avg-tones', 'value')])\n",
    "\n",
    "def update_figure(avg_tones):\n",
    "    fig = tools.make_subplots(rows=2, cols=1,shared_xaxes=True, vertical_spacing=0.001)\n",
    "    traces = []\n",
    "    \n",
    "    filtered= df[df['NomMaterial'] ==\"Resta\"]\n",
    "    trace_Resta = go.Scatter(\n",
    "                            x=filtered['Anyo'],y=filtered['Quantitat'],text=\"Resta\",\n",
    "                            mode='lines+markers',\n",
    "                            opacity=0.7,\n",
    "                            marker={\n",
    "                                'size': 15,\n",
    "                                'line': {'width': 0.5, 'color': 'white'}\n",
    "                            },\n",
    "                            name=\"Resta\"\n",
    "                        )  \n",
    "    \n",
    "    filtered = df[df['NomMaterial'].isin(materials)].groupby(\"Anyo\").sum()\n",
    "    trace_Total= go.Scatter(                      \n",
    "                            x=filtered.index,y=filtered['Quantitat'],text=\"Total Materials\",\n",
    "                            mode='lines+markers',\n",
    "                            opacity=0.7,\n",
    "                            marker={\n",
    "                                'size': 15,\n",
    "                                'line': {'width': 0.5, 'color': 'white'}\n",
    "                            },\n",
    "                            name=\"Total Materials\",\n",
    "                            \n",
    "                        )   \n",
    "    \n",
    "    fig.append_trace(trace_Resta, 1, 1)\n",
    "    fig.append_trace(trace_Total, 1, 1)\n",
    "    \n",
    "    for i in materials :\n",
    "        filtered= df[df['NomMaterial'] == i]\n",
    "        y=filtered['Quantitat']\n",
    "        if (y.mean()>avg_tones) :\n",
    "            x=filtered['Anyo']\n",
    "            traces.append(go.Scatter(x=x,y=y,text=i,mode='markers',opacity=0.7,\n",
    "                                marker={\n",
    "                                    'size': 15,\n",
    "                                    'line': {'width': 0.5, 'color': 'white'}\n",
    "                                }, name=i[0:30])) \n",
    "    for trace in traces:\n",
    "        fig.append_trace(trace, 2, 1)\n",
    "\n",
    "\n",
    "    fig['layout'].update(height=600,title=\"Residus a Sabadell\", margin={'l': 50, 'b': 40, 't': 40, 'r': 50},\n",
    "              yaxis1={\"title\":\"Totals\"}, yaxis2={\"title\":\"Materials\"},hovermode=\"closest\")\n",
    "    return fig\n",
    "\n",
    "\n",
    "if __name__ == '__main__':\n",
    "    app.run_server()"
   ]
  },
  {
   "cell_type": "code",
   "execution_count": null,
   "metadata": {},
   "outputs": [],
   "source": [
    "!python3 my_app3.py"
   ]
  },
  {
   "cell_type": "markdown",
   "metadata": {
    "collapsed": true
   },
   "source": [
    "# Open Data Barcelona \n",
    "\n",
    "**EXERCICE**\n",
    "\n",
    "Using information of 2017's births in Barcelona Districts that you can find at [Open Data Barcelona](http://opendata-ajuntament.barcelona.cat/en/) that you can download [here](http://opendata-ajuntament.barcelona.cat/data/en/dataset/est-demo-naixements-sexe), try to obtain a fancy plot showing girls and boys births per different Barcelona District(Slicer is not necessary). \n",
    "\n",
    "You also can find this the CSV file with this information in `DadesBarcelona/2017_naixements_sexe.csv`\n",
    "\n"
   ]
  },
  {
   "cell_type": "code",
   "execution_count": null,
   "metadata": {},
   "outputs": [],
   "source": [
    "import pandas as pd\n",
    "\n",
    "df = pd.read_csv(\"DadesBarcelona/2017_naixements_sexe.csv\",sep=',')\n",
    "\n",
    "df"
   ]
  },
  {
   "cell_type": "code",
   "execution_count": null,
   "metadata": {},
   "outputs": [],
   "source": [
    "#pd.pivot_table()"
   ]
  },
  {
   "cell_type": "code",
   "execution_count": null,
   "metadata": {},
   "outputs": [],
   "source": [
    "%%writefile my_exercice.py\n",
    "#Dash exercice\n",
    "import pandas as pd\n",
    "import dash\n",
    "import dash_core_components as dcc\n",
    "import dash_html_components as html\n",
    "import plotly.graph_objs as go\n",
    "from plotly import tools\n",
    "import numpy as np\n",
    "\n",
    "df = pd.read_csv(\"DadesBarcelona/2017_naixements_sexe.csv\",sep=',')\n",
    "#pv = pd.pivot_table() ADD YOUR CODE\n",
    "\n",
    "app = dash.Dash()\n",
    "app.css.append_css({\"external_url\": \"https://codepen.io/chriddyp/pen/bWLwgP.css\"})\n",
    "\n",
    "app.layout = html.Div([html.Div(\n",
    "    [dcc.Graph(id='birth_bcn',figure = {\n",
    "        \n",
    "                                    #YOUR CODE HERE\n",
    "         \n",
    "                              } )\n",
    "                                ],\n",
    "                                style={'height':'80%','padding': '0px 20px 20px 20px'},\n",
    "                                \n",
    "                               )])\n",
    "\n",
    "\n",
    "\n",
    "\n",
    "if __name__ == '__main__':\n",
    "    app.run_server(debug=True)\n",
    "\n",
    "\n",
    "if __name__ == '__main__':\n",
    "    app.run_server()"
   ]
  },
  {
   "cell_type": "code",
   "execution_count": null,
   "metadata": {},
   "outputs": [],
   "source": [
    "!python3 my_exercice.py"
   ]
  }
 ],
 "metadata": {
  "kernelspec": {
   "display_name": "Python 3",
   "language": "python",
   "name": "python3"
  },
  "language_info": {
   "codemirror_mode": {
    "name": "ipython",
    "version": 3
   },
   "file_extension": ".py",
   "mimetype": "text/x-python",
   "name": "python",
   "nbconvert_exporter": "python",
   "pygments_lexer": "ipython3",
   "version": "3.6.7"
  }
 },
 "nbformat": 4,
 "nbformat_minor": 2
}
