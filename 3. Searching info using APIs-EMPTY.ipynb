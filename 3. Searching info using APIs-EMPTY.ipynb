{
 "cells": [
  {
   "cell_type": "markdown",
   "metadata": {},
   "source": [
    "# API to search film information \n",
    "\n",
    "APIs are services made by developers to make queries to servers and data bases open to all people that want to use it. Usually is as easy as Google search engine but you have to know which queries are available and how to make it. \n",
    "\n",
    "Usually some kind of identifier or key is needed to use API and make queries to an API. In this case, this identifier is usually used to limitate number of queries per minute and to have some kind of control about people using this API. APIs are widely used in web pages and mobile apps to look for updated data they need.\n",
    "\n",
    "We are going to use an API about films information that is used by some cinemas web pages, cinema listings mobile apps, etc. \n",
    "\n",
    "Web page where you have to register to use this API is [The Movie Data Base](https://www.themoviedb.org/). After your registration you have to ask for a key to be able to us their API. All information related to this API usage can be find [here.](https://developers.themoviedb.org/3/getting-started/introduction) in this web page you can also try the API directly on **Try it out** tab.\n",
    "For exemple, if you want to discover about films you can look for documentation about movie discover [here.](https://developers.themoviedb.org/3/discover/movie-discover)"
   ]
  },
  {
   "cell_type": "markdown",
   "metadata": {},
   "source": [
    "Try an easy example about 'trending' where you can find information [here:](https://developers.themoviedb.org/3/trending/get-trending)"
   ]
  },
  {
   "cell_type": "code",
   "execution_count": null,
   "metadata": {},
   "outputs": [],
   "source": [
    "import requests\n",
    "\n",
    "#response = requests.get('https://api.themoviedb.org/3/trending/movie/week?api_key=<<API_KEY>>)\n",
    "#response.text"
   ]
  },
  {
   "cell_type": "code",
   "execution_count": null,
   "metadata": {},
   "outputs": [],
   "source": [
    "import requests\n",
    "\n",
    "api_key = #PUT HERE YOUR API KEY\n",
    "parameters = {\"api_key\":api_key }\n",
    "\n",
    "response = requests.get('https://api.themoviedb.org/3/trending/movie/week',params=parameters)\n",
    "response.url"
   ]
  },
  {
   "cell_type": "code",
   "execution_count": null,
   "metadata": {},
   "outputs": [],
   "source": [
    "response.text"
   ]
  },
  {
   "cell_type": "markdown",
   "metadata": {},
   "source": [
    "Let see some more films API usage examples:\n",
    "\n",
    "1. Best films of the year. Films can be ordered by score, popularity or revenues. You can change **sort_by** parameter for: **mes_populars**, **mes_ben_valorades** or **mes_guanys**. You can also change the type of film certification: **APTA**,**7**,**12**,**16** or **18** years.\n",
    "\n",
    "2. Most popular films where a concret actor appears. Put the name of the actor or actress and obtain information about his/her most popular films. \n",
    "\n",
    "3. Films where two actors or actresses appears. Put the name of two actor or actresses to know if they worked together in a film.\n",
    "\n",
    "4. Obtain films recomendations introducing a film that you have already watch. "
   ]
  },
  {
   "cell_type": "code",
   "execution_count": null,
   "metadata": {},
   "outputs": [],
   "source": [
    "%matplotlib inline\n",
    "import requests\n",
    "import urllib\n",
    "from PIL import Image\n",
    "import matplotlib.pyplot as plt\n",
    "import numpy as np\n",
    "\n",
    "def mostraInfoPelis(pelis):\n",
    "    if (len(pelis)==0):\n",
    "        print(\"No hi ha cap peli per mostar\")\n",
    "    for peli in pelis:\n",
    "            print(peli['title'] +\" (\"+peli['release_date']+\")\\t***\"+str(peli[\"vote_average\"])+\"***\")\n",
    "            im = Image.open(urllib.request.urlopen(\"https://image.tmdb.org/t/p/w500/\"+peli['poster_path']))\n",
    "            plt.figure()\n",
    "            plt.title(peli['title'],size=16)\n",
    "            plt.imshow(np.asarray(im))\n",
    "            plt.axis('off')\n",
    "            plt.show()\n",
    "\n",
    "url_Pelis = \"https://api.themoviedb.org/3/discover/movie\"\n",
    "url_Persones = \"https://api.themoviedb.org/3/search/person\"\n",
    "\n",
    "mes_populars = \"popular.desc\"\n",
    "mes_ben_valorades = \"vote_average.desc\"\n",
    "mes_guanys = \"revenue.desc\"  \n",
    "certificacio = {\"APTA\":\"APTA\",\"7\":\"7\",\"12\":\"12\",\"16\":\"16\",\"18\":\"18\"}\n",
    "api_key = #PUT HERE YOUR API KEY"
   ]
  },
  {
   "cell_type": "code",
   "execution_count": null,
   "metadata": {},
   "outputs": [],
   "source": [
    "##### BEST FILMS!\n",
    "\n",
    "any_ = 2018\n",
    "\n",
    "\n",
    "print(\"Les pel·lícules de l'any: \" + str(any_))\n",
    "\n",
    "parameters = {\"sort_by\":mes_guanys,\n",
    "              \"certification_country\":\"ES\", \"page\":1,\n",
    "              \"certification.lte\":certificacio[\"16\"],\"language\":\"es-ES\",\"region\":\"ES\",\n",
    "              \"release_date.gte\":str(any_)+(\"-01-01\"),\n",
    "              \"api_key\":api_key }\n",
    "response = requests.get(url_Pelis,params=parameters)\n",
    "\n",
    "if (int(response.headers[\"x-ratelimit-remaining\"])) > 0:\n",
    "    data = response.json()\n",
    "    mostraInfoPelis(data[\"results\"])\n",
    "else:\n",
    "    print(\"Intenta-ho més tard\")\n",
    "            \n"
   ]
  },
  {
   "cell_type": "code",
   "execution_count": null,
   "metadata": {},
   "outputs": [],
   "source": [
    "##### Most popular films from an actos/actress\n",
    "actor = \"Radcliffe\"\n",
    "\n",
    "parameters = {\"query\":actor, \"page\":1, \n",
    "              \"language\":\"es-ES\",\n",
    "              \"api_key\":api_key  }\n",
    "\n",
    "response = requests.get(url_Persones,params=parameters)\n",
    "if (int(response.headers[\"x-ratelimit-remaining\"])) > 0:\n",
    "    data = response.json()\n",
    "    if data[\"total_results\"]>0:\n",
    "        result = data[\"results\"][0]\n",
    "        print(\"Les pelis més conegudes de l'actor/actriu: \" +result[\"name\"])\n",
    "        mostraInfoPelis(result[\"known_for\"])\n",
    "    else:\n",
    "        print(\"No he trobat cap actor amb aquest nom: \" +actor)\n",
    "else:\n",
    "    print(\"Intenta-ho més tard\")\n"
   ]
  },
  {
   "cell_type": "code",
   "execution_count": null,
   "metadata": {},
   "outputs": [],
   "source": [
    "##### Are two actors worked together?\n",
    "\n",
    "actor1 = \"Depp\"\n",
    "actor2 = \"DiCaprio\"\n",
    "\n",
    "escapa = False\n",
    "parameters = {\"query\":actor1, \"page\":1, \n",
    "              \"language\":\"es-ES\",\n",
    "              \"api_key\":api_key  }\n",
    "\n",
    "response = requests.get(url_Persones,params=parameters)\n",
    "if (int(response.headers[\"x-ratelimit-remaining\"])) > 0:\n",
    "    data = response.json()\n",
    "    if data[\"total_results\"]>0:\n",
    "        actor1_json = data[\"results\"][0]\n",
    "    else:\n",
    "        print(\"No he trobat cap actor amb aquest nom: \" + actor1)\n",
    "        escapa = True\n",
    "    \n",
    "    \n",
    "parameters = {\"query\":actor2, \"page\":1, \n",
    "              \"language\":\"es-ES\",\n",
    "              \"api_key\": api_key  }\n",
    "response = requests.get(url_Persones,params=parameters)\n",
    "if (int(response.headers[\"x-ratelimit-remaining\"])) > 0:\n",
    "    data = response.json()\n",
    "    if data[\"total_results\"]>0:\n",
    "        actor2_json = data[\"results\"][0]\n",
    "    else:\n",
    "        print(\"No he trobat cap actor amb aquest nom: \" + actor2)\n",
    "        escapa = True\n",
    "\n",
    "if not escapa:  \n",
    "    print(\"Les pelis de l'actor: \" +actor1_json[\"name\"] + \" juntament amb l'actor: \" +actor2_json[\"name\"])\n",
    "\n",
    "    parameters = {\"with_people\": str(actor1_json[\"id\"]) +\", \"+ str(actor2_json[\"id\"]), \"page\":1, \n",
    "                  \"sort_by\":mes_guanys,\n",
    "                  \"language\":\"es-ES\",\n",
    "                  \"api_key\": api_key}\n",
    "\n",
    "    response = requests.get(url_Pelis,params=parameters)\n",
    "    if (int(response.headers[\"x-ratelimit-remaining\"])) > 0:\n",
    "        data = response.json()\n",
    "        mostraInfoPelis(data[\"results\"])"
   ]
  },
  {
   "cell_type": "code",
   "execution_count": null,
   "metadata": {},
   "outputs": [],
   "source": [
    "## Digues-me recomanacions de pel·lícules que siguin tipus aquesta altra peli: ...\n",
    "\n",
    "peli = \"Bohemian Rhapsody\"\n",
    "\n",
    "escapa = False\n",
    "parameters = {\"query\":peli, \"page\":1, \n",
    "              \"language\":\"es-ES\", \"region\": \"ES\",\n",
    "              \"api_key\":api_key  }\n",
    "\n",
    "response = requests.get(\"https://api.themoviedb.org/3/search/movie\",params=parameters)\n",
    "if (int(response.headers[\"x-ratelimit-remaining\"])) > 0:\n",
    "    data = response.json()\n",
    "    if data[\"total_results\"]>0:\n",
    "        peli_json = data[\"results\"][0]\n",
    "    else:\n",
    "        print(\"No he trobat cap peli amb aquest nom: \" + peli)\n",
    "        escapa = True\n",
    "        \n",
    "if not escapa:\n",
    "    print(\"Recomenacions per si t'ha agradat la peli: \"+peli_json[\"title\"])\n",
    "    parameters = {\"page\":1, \n",
    "              \"language\":\"es-ES\", \"region\": \"ES\",\n",
    "              \"api_key\":api_key  }\n",
    "    response = requests.get(\"https://api.themoviedb.org/3/movie/\"+str(peli_json[\"id\"])+\"/recommendations\",params=parameters)\n",
    "    if (int(response.headers[\"x-ratelimit-remaining\"])) > 0:\n",
    "        data = response.json()\n",
    "        pelis = data[\"results\"]\n",
    "        mostraInfoPelis(pelis)"
   ]
  }
 ],
 "metadata": {
  "kernelspec": {
   "display_name": "Python 3",
   "language": "python",
   "name": "python3"
  },
  "language_info": {
   "codemirror_mode": {
    "name": "ipython",
    "version": 3
   },
   "file_extension": ".py",
   "mimetype": "text/x-python",
   "name": "python",
   "nbconvert_exporter": "python",
   "pygments_lexer": "ipython3",
   "version": "3.6.7"
  }
 },
 "nbformat": 4,
 "nbformat_minor": 2
}
