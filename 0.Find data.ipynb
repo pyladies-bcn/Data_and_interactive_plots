{
 "cells": [
  {
   "cell_type": "markdown",
   "metadata": {},
   "source": [
    "# Where can I find Data?"
   ]
  },
  {
   "cell_type": "markdown",
   "metadata": {},
   "source": [
    "Usually want to response some daily life question but we have no money, time or infrastructure to collect all data necesary.\n",
    "\n",
    "Nowadays internet is a huge source of data and also a lot of companies and institutions collect data. Obviouslly not all this information is public or freely accessible (private information, companies related business...) but this \"little\" part is incredible HUGE.\n",
    "\n",
    "* **Public Goverment datasets:**\n",
    "    - Open Data projects\n",
    "    - \n",
    "* **Research centers and institutions:**\n",
    "    - NASA\n",
    "    - \n",
    "\n",
    "* **Data related Companies:**\n",
    "    - Limited datasets\n",
    "    \n",
    "* **Tranning \n",
    "    - Kaggle\n",
    "\n",
    "But if the information you need is not avaialble in a \n"
   ]
  },
  {
   "cell_type": "code",
   "execution_count": null,
   "metadata": {},
   "outputs": [],
   "source": []
  }
 ],
 "metadata": {
  "kernelspec": {
   "display_name": "Python 3",
   "language": "python",
   "name": "python3"
  },
  "language_info": {
   "codemirror_mode": {
    "name": "ipython",
    "version": 3
   },
   "file_extension": ".py",
   "mimetype": "text/x-python",
   "name": "python",
   "nbconvert_exporter": "python",
   "pygments_lexer": "ipython3",
   "version": "3.6.7"
  }
 },
 "nbformat": 4,
 "nbformat_minor": 2
}
